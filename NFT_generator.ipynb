{
  "cells": [
    {
      "cell_type": "code",
      "source": [
        "!pip install qrcode"
      ],
      "metadata": {
        "id": "P67jleUXYlQ2"
      },
      "execution_count": null,
      "outputs": []
    },
    {
      "cell_type": "code",
      "source": [
        "from google.colab import drive\n",
        "drive.mount('/content/drive')"
      ],
      "metadata": {
        "colab": {
          "base_uri": "https://localhost:8080/"
        },
        "id": "4TaFa0UKs8uX",
        "outputId": "a4be5473-2993-487f-f459-80791f1c9ff6"
      },
      "execution_count": null,
      "outputs": [
        {
          "output_type": "stream",
          "name": "stdout",
          "text": [
            "Mounted at /content/drive\n"
          ]
        }
      ]
    },
    {
      "cell_type": "code",
      "source": [
        "\n",
        "# dependency code\n",
        "\n",
        "from PIL import Image\n",
        "import qrcode\n",
        "\n",
        "def generate_gradient(\n",
        "        colour1: str, colour2: str, width: int, height: int) -> Image:\n",
        "    \"\"\"Generate a vertical gradient.\"\"\"\n",
        "    base = Image.new('RGB', (width, height), colour1)\n",
        "    top = Image.new('RGB', (width, height), colour2)\n",
        "    mask = Image.new('L', (width, height))\n",
        "    mask_data = []\n",
        "    for y in range(height):\n",
        "        mask_data.extend([int(255 * (y / height))] * width)\n",
        "    mask.putdata(mask_data)\n",
        "    base.paste(top, (0, 0), mask)\n",
        "    return base\n",
        "\n",
        "def getqr(link):\n",
        "  img = qrcode.make(link)\n",
        "  return img\n",
        "  "
      ],
      "metadata": {
        "id": "eGZHopmfbpiN"
      },
      "execution_count": null,
      "outputs": []
    },
    {
      "cell_type": "code",
      "source": [
        "\n",
        "# data template csv generator\n",
        "\n",
        "import requests\n",
        "\n",
        "r = requests.get(\"https://raw.githubusercontent.com/ghosh/uiGradients/master/gradients.json\")\n",
        "list_of_grad = r.json()\n",
        "\n",
        "import pandas as pd\n",
        "\n",
        "df = pd.DataFrame(columns=[\"tid\",\"g1\",\"g2\",\"url\",\"name\",\"nft_save_name\",\"teamName\",\"walletAddress\"])\n",
        "\n",
        "gcounter = 0\n",
        "\n",
        "for i in range(45):\n",
        "  for j in range(4):\n",
        "    gradient = list_of_grad[gcounter][\"colors\"]\n",
        "    df = df.append({\n",
        "        \"tid\":i,\"g1\":gradient[0],\"g2\":gradient[1],\"url\":f\"https://verify.hack.kjsce.com/verify/0xabcabc{i}{j}\",\n",
        "        \"name\":f\"firstname{i} {j} lastname{i} {j}\",\"nft_save_name\":f\"uniquename{i} {j}\",\"teamName\":f\"teamname{i}\",\n",
        "        \"walletAddress\": f\"0xabcabc{i}{j}\"\n",
        "    },ignore_index=True)\n",
        "  gcounter+=1\n",
        "\n",
        "df.to_csv(\"NFT_team_data_template.csv\",index=False)"
      ],
      "metadata": {
        "id": "V4fYix6CCQAX"
      },
      "execution_count": 2,
      "outputs": []
    },
    {
      "cell_type": "code",
      "source": [
        "\n",
        "# NFT image generator\n",
        "\n",
        "import pandas as pd\n",
        "\n",
        "df = pd.read_csv(\"drive/MyDrive/NFT_team_data.csv\") \n",
        "\n",
        "guy_lap = Image.open(\"drive/MyDrive/final_NFT.png\").convert(\"RGBA\")\n",
        "\n",
        "\n",
        "\n",
        "for i in range(len(df)):\n",
        "  data = df.loc[i]\n",
        "  base = generate_gradient(data[\"g1\"],data[\"g2\"],1080,1080)\n",
        "  t = guy_lap.copy()\n",
        "  base.paste(t,mask=t)\n",
        "  qr = getqr(data[\"url\"])\n",
        "  qr = qr.resize((300,300))\n",
        "  base.paste(qr,(390,671))\n",
        "\n",
        "  base.save(\"drive/MyDrive/NFToutput/\"+data[\"nft_save_name\"]+\".png\")\n",
        "\n"
      ],
      "metadata": {
        "id": "w-ZjvlHeetAu"
      },
      "execution_count": null,
      "outputs": []
    },
    {
      "cell_type": "code",
      "source": [
        "\n",
        "# metadata generator\n",
        "\n",
        "import json\n",
        "\n",
        "urlprefix = \"ipfs://img_folder_CID/\"\n",
        "\n",
        "\n",
        "for i in range(len(df)):\n",
        "  data = df.loc[i]\n",
        "  metadata = {\n",
        "    \"name\": data[\"name\"]+\"'s NFT\",\n",
        "    \"description\": data[\"name\"]+\"'s NFT of team \"+data[\"teamName\"],\n",
        "    \"image\": urlprefix+data[\"nft_save_name\"]+\".png\",\n",
        "    \"attributes\": [\n",
        "      {\n",
        "        \"trait_type\": \"team name\",\n",
        "        \"value\": data[\"teamName\"]\n",
        "      }\n",
        "    ]\n",
        "  }\n",
        "  with open(\"drive/MyDrive/NFTmetadata/\"+data[\"nft_save_name\"]+\".json\", \"w+\") as outfile:\n",
        "    json.dump(metadata, outfile)\n",
        "\n",
        "\n",
        "\n"
      ],
      "metadata": {
        "id": "IyF3u0DoA_6x"
      },
      "execution_count": null,
      "outputs": []
    },
    {
      "cell_type": "code",
      "source": [
        "\n",
        "# json list for minting NFT\n",
        "\n",
        "df = df[['walletAddress', 'nft_save_name']]\n",
        "\n",
        "df.to_json(\"drive/MyDrive/mintlist.json\",orient=\"records\")\n"
      ],
      "metadata": {
        "id": "bxX2tPk2HL7x"
      },
      "execution_count": null,
      "outputs": []
    }
  ],
  "metadata": {
    "colab": {
      "collapsed_sections": [],
      "name": "NFT_generator.ipynb",
      "provenance": []
    },
    "kernelspec": {
      "display_name": "Python 3",
      "name": "python3"
    },
    "language_info": {
      "name": "python"
    }
  },
  "nbformat": 4,
  "nbformat_minor": 0
}